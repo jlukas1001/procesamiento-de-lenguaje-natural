{
  "cells":[
    {
      "cell_type":"markdown",
      "source":[
        "<table>\n",
        "    <tr>\n",
        "        <td><img src=\"Macc.png\" width=\"400\"\/><\/td>\n",
        "        <td>&nbsp;<\/td>\n",
        "        <td>\n",
        "            <h1 style=\"color:blue;text-align:left\">Inteligencia Artificial<\/h1><\/td>\n",
        "        <td>\n",
        "            <table><tr>\n",
        "            <tp><p style=\"font-size:150%;text-align:center\">Proyecto 2<\/p><\/tp>\n",
        "            <tp><p style=\"font-size:150%;text-align:center\">Lenguaje natural<\/p><\/tp>\n",
        "            <\/tr><\/table>\n",
        "        <\/td>\n",
        "    <\/tr>\n",
        "<\/table>\n",
        "\n",
        "---"
      ],
      "attachments":{
        
      },
      "metadata":{
        
      }
    },
    {
      "cell_type":"markdown",
      "source":[
        "### Objetivo\n",
        "\n",
        "El objetivo principal de este notebook es visualizar la aplicación de la lógica proposicional para formalizar un razonamiento en lenguaje natural para responder preguntas. Esto, lo lograremos por un lado, definiendo manualmente ciertos aspectos y, por otro lado, creando axiomas que nos ayuden a que la pregunta se responda automáticamente."
      ],
      "attachments":{
        
      },
      "metadata":{
        
      }
    },
    {
      "cell_type":"markdown",
      "source":[
        "# Introducción"
      ],
      "attachments":{
        
      },
      "metadata":{
        
      }
    },
    {
      "cell_type":"markdown",
      "source":[
        "### Ejemplo\n",
        "\n",
        "**Texto:** Juan, quien siempre lleva su laptop consigo, tomo un vuelo de Bogotá a Medellín en la mañana del 11 de diciembre.\n",
        "\n",
        "**Pregunta:** ¿En qué ciudad está el laptop de Juan la noche del 10 de diciembre?\n",
        "\n",
        "**Pregunta:** ¿En qué ciudad está el laptop de Juan la noche del 11 de diciembre?"
      ],
      "attachments":{
        
      },
      "metadata":{
        
      }
    },
    {
      "cell_type":"code",
      "source":[
        "from logica import *"
      ],
      "execution_count":1,
      "outputs":[
        
      ],
      "metadata":{
        
      }
    },
    {
      "cell_type":"code",
      "source":[
        "\n",
        "#Listas\n",
        "sujeto = ['Juan', 'laptop'] \n",
        "posicion = ['Bogota', 'Medellin'] \n",
        "tiempo = [\"10 de diciembre am\", \"10 de diciembre pm\",  \"11 de diciembre am\", \"11 de diciembre pm\"]\n",
        "#t es 10\/12 am, t+1 es 10\/12 pm, t+2 11\/12 am, t+3 11\/12 pm (dd\/mm)\n",
        "\n",
        "estado = ['está','viaja']\n",
        "\n",
        "Nsujetos = len(sujeto)\n",
        "Nlugares = len(posicion)\n",
        "Ntiempos = len(tiempo)\n",
        "Nestado = len(estado)\n",
        "\n",
        "IenCasilla = Descriptor([Nsujetos, Nlugares, Ntiempos, Nestado], sujeto, posicion, tiempo, estado)\n",
        "\n",
        "c = IenCasilla.P([0,0,1,0])\n",
        "print(c)"
      ],
      "execution_count":2,
      "outputs":[
        {
          "name":"stdout",
          "text":[
            "Ą\n"
          ],
          "output_type":"stream"
        }
      ],
      "metadata":{
        
      }
    },
    {
      "cell_type":"markdown",
      "source":[
        "# Creacion de reglas para la representacion del problema"
      ],
      "attachments":{
        
      },
      "metadata":{
        
      }
    },
    {
      "cell_type":"markdown",
      "source":[
        "**Regla 1**\n",
        "\n",
        "\"Si x esta en y en el tiempo t entonces laptop esta en y en el tiempo t\"\n",
        "\n",
        "donde: \n",
        "    \n",
        "* x es el sujeto (Juan), \n",
        "    \n",
        "* y el lugar (Bogota, medellin),\n",
        "\n",
        "* t el tiempo (10 de diciembre am o pm, 11 de diciembre am o pm)\n",
        "\n",
        "Con esta regla estamos indicando que Juan siempre lleva su laptop con el, por lo tanto, si preguntan por Juan o por la laptop podremos dar respuesta."
      ],
      "attachments":{
        
      },
      "metadata":{
        
      }
    },
    {
      "cell_type":"code",
      "source":[
        "formulas_laptop = []\n",
        "for i in range(Nlugares): \n",
        "    for t in range(Ntiempos):\n",
        "        atomo = IenCasilla.P([0,i,t,0])\n",
        "        atomo2 = IenCasilla.P([1,i,t,0])\n",
        "        regla = atomo + '>' + atomo2\n",
        "        formulas_laptop.append(regla)\n",
        "\n",
        "for i in range(Nlugares): \n",
        "    for t in range(Ntiempos):\n",
        "        atomo = IenCasilla.P([1,i,t,0])\n",
        "        atomo2 = IenCasilla.P([0,i,t,0])\n",
        "        regla = atomo + '>' + atomo2\n",
        "        formulas_laptop.append(regla)\n",
        "\n",
        "formulas_laptop"
      ],
      "execution_count":3,
      "outputs":[
        {
          "data":{
            "text\/plain":[
              "['Ā>ā',\n",
              " 'Ą>ą',\n",
              " 'Ĉ>ĉ',\n",
              " 'Č>č',\n",
              " 'Ă>ă',\n",
              " 'Ć>ć',\n",
              " 'Ċ>ċ',\n",
              " 'Ď>ď',\n",
              " 'ā>Ā',\n",
              " 'ą>Ą',\n",
              " 'ĉ>Ĉ',\n",
              " 'č>Č',\n",
              " 'ă>Ă',\n",
              " 'ć>Ć',\n",
              " 'ċ>Ċ',\n",
              " 'ď>Ď']"
            ]
          },
          "metadata":{
            
          },
          "output_type":"display_data"
        }
      ],
      "metadata":{
        
      }
    },
    {
      "cell_type":"code",
      "source":[
        "for regla in formulas_laptop:\n",
        "    texto = \"Si \"\n",
        "\n",
        "    for x, i in enumerate(regla.split('>')):\n",
        "        texto = texto + IenCasilla.escribir(i)\n",
        "        if x == 0:\n",
        "            texto = texto + \" entonces \"\n",
        "    \n",
        "    print(texto)"
      ],
      "execution_count":4,
      "outputs":[
        {
          "name":"stdout",
          "text":[
            "Si Juan está en Bogota el 10 de diciembre am entonces laptop está en Bogota el 10 de diciembre am\n",
            "Si Juan está en Bogota el 10 de diciembre pm entonces laptop está en Bogota el 10 de diciembre pm\n",
            "Si Juan está en Bogota el 11 de diciembre am entonces laptop está en Bogota el 11 de diciembre am\n",
            "Si Juan está en Bogota el 11 de diciembre pm entonces laptop está en Bogota el 11 de diciembre pm\n",
            "Si Juan está en Medellin el 10 de diciembre am entonces laptop está en Medellin el 10 de diciembre am\n",
            "Si Juan está en Medellin el 10 de diciembre pm entonces laptop está en Medellin el 10 de diciembre pm\n",
            "Si Juan está en Medellin el 11 de diciembre am entonces laptop está en Medellin el 11 de diciembre am\n",
            "Si Juan está en Medellin el 11 de diciembre pm entonces laptop está en Medellin el 11 de diciembre pm\n",
            "Si laptop está en Bogota el 10 de diciembre am entonces Juan está en Bogota el 10 de diciembre am\n",
            "Si laptop está en Bogota el 10 de diciembre pm entonces Juan está en Bogota el 10 de diciembre pm\n",
            "Si laptop está en Bogota el 11 de diciembre am entonces Juan está en Bogota el 11 de diciembre am\n",
            "Si laptop está en Bogota el 11 de diciembre pm entonces Juan está en Bogota el 11 de diciembre pm\n",
            "Si laptop está en Medellin el 10 de diciembre am entonces Juan está en Medellin el 10 de diciembre am\n",
            "Si laptop está en Medellin el 10 de diciembre pm entonces Juan está en Medellin el 10 de diciembre pm\n",
            "Si laptop está en Medellin el 11 de diciembre am entonces Juan está en Medellin el 11 de diciembre am\n",
            "Si laptop está en Medellin el 11 de diciembre pm entonces Juan está en Medellin el 11 de diciembre pm\n"
          ],
          "output_type":"stream"
        }
      ],
      "metadata":{
        
      }
    },
    {
      "cell_type":"markdown",
      "source":[
        "**Regla 2**\n",
        "\n",
        "\"Si x viaja a y en el tiempo t, entonces, x esta en z en el tiempo t+1\"\n",
        "\n",
        "donde: \n",
        "    \n",
        "* x es el sujeto (Juan), \n",
        "\n",
        "* y el lugar (Bogota, medellin),\n",
        "\n",
        "* t el tiempo (10 de diciembre am o pm, 11 de diciembre am o pm)\n",
        "  \n",
        "* z el destino\/lugar (Bogota, Medellin)\n",
        "\n",
        "Con esta regla estamos indicando que tanto Juan como la laptop se encuentran en el lugar indicado luego de hacer el viaje, es decir, que si llegaramos a preguntar donde se encuentra Juan el 11 de diciembre en la tarde\/noche (pm), la maquina sabria que es en Medellin.\n",
        "\n",
        "Debemos tener en cuenta que t inicia en 10 de diciembre en la mañana, t+1 es 10 de diciembre en la noche, t+2 es 11 de diciembre en la mañana y, t+3 es 11 de diciembre en la noche."
      ],
      "attachments":{
        
      },
      "metadata":{
        
      }
    },
    {
      "cell_type":"code",
      "source":[
        "formulas_viaje = []\n",
        "\n",
        "for i in range(Nlugares): \n",
        "    for t in range(Ntiempos):\n",
        "        atomo = IenCasilla.P([0,i,t,1])\n",
        "\n",
        "        try:\n",
        "            atomo2 = IenCasilla.P([0,i,t+1,0])\n",
        "\n",
        "            regla = atomo + '>' + atomo2\n",
        "            formulas_viaje.append(regla)\n",
        "\n",
        "        except:\n",
        "            pass\n",
        "\n",
        "\n",
        "\n",
        "formulas_viaje"
      ],
      "execution_count":5,
      "outputs":[
        {
          "data":{
            "text\/plain":[
              "['Đ>Ą', 'Ĕ>Ĉ', 'Ę>Č', 'Ē>Ć', 'Ė>Ċ', 'Ě>Ď']"
            ]
          },
          "metadata":{
            
          },
          "output_type":"display_data"
        }
      ],
      "metadata":{
        
      }
    },
    {
      "cell_type":"code",
      "source":[
        "for regla in formulas_viaje:\n",
        "    texto = \"Si \"\n",
        "\n",
        "    for x, i in enumerate(regla.split('>')):\n",
        "        texto = texto + IenCasilla.escribir(i)\n",
        "        if x == 0:\n",
        "            texto = texto + \" entonces \"\n",
        "    \n",
        "    print(texto)"
      ],
      "execution_count":6,
      "outputs":[
        {
          "name":"stdout",
          "text":[
            "Si Juan viaja a Bogota el 10 de diciembre am entonces Juan está en Bogota el 10 de diciembre pm\n",
            "Si Juan viaja a Bogota el 10 de diciembre pm entonces Juan está en Bogota el 11 de diciembre am\n",
            "Si Juan viaja a Bogota el 11 de diciembre am entonces Juan está en Bogota el 11 de diciembre pm\n",
            "Si Juan viaja a Medellin el 10 de diciembre am entonces Juan está en Medellin el 10 de diciembre pm\n",
            "Si Juan viaja a Medellin el 10 de diciembre pm entonces Juan está en Medellin el 11 de diciembre am\n",
            "Si Juan viaja a Medellin el 11 de diciembre am entonces Juan está en Medellin el 11 de diciembre pm\n"
          ],
          "output_type":"stream"
        }
      ],
      "metadata":{
        
      }
    },
    {
      "cell_type":"markdown",
      "source":[
        "**Regla 3**\n",
        "\n",
        "\"Si x viaja a y en t, entonces, x esta en y en t-1\"\n",
        "\n",
        "donde: \n",
        "    \n",
        "* x es el sujeto (Juan), \n",
        "\n",
        "* y el lugar (Bogota, Medellin),\n",
        "\n",
        "* t el tiempo (10 de diciembre am o pm, 11 de diciembre am o pm)"
      ],
      "attachments":{
        
      },
      "metadata":{
        
      }
    },
    {
      "cell_type":"code",
      "source":[
        "formulas_lugar_anterior = []\n",
        "for i in range(Nlugares): \n",
        "    for t in range(Ntiempos):\n",
        "        atomo = IenCasilla.P([0,i,t,1])\n",
        "        try:\n",
        "            if i == 0:\n",
        "                j = 1\n",
        "            else:\n",
        "                j = 0\n",
        "\n",
        "            atomo2 = IenCasilla.P([0,j,t-1,0])\n",
        "\n",
        "            regla = atomo + '>' + atomo2\n",
        "            formulas_lugar_anterior.append(regla)\n",
        "        except:\n",
        "            pass\n",
        "\n",
        "\n",
        "formulas_lugar_anterior"
      ],
      "execution_count":36,
      "outputs":[
        {
          "data":{
            "text\/plain":[
              "['Ĕ>Ă', 'Ę>Ć', 'Ĝ>Ċ', 'Ė>Ā', 'Ě>Ą', 'Ğ>Ĉ']"
            ]
          },
          "metadata":{
            
          },
          "output_type":"display_data"
        }
      ],
      "metadata":{
        
      }
    },
    {
      "cell_type":"markdown",
      "source":[
        "**Regla 3**\n",
        "\n",
        "\"Si x esta en y en t Y, x no viajo en t-1, entonces, x esta en y en t-1\"\n",
        "\n",
        "donde: \n",
        "    \n",
        "* x es el sujeto (Juan), \n",
        "\n",
        "* y el lugar (Bogota, medellin),\n",
        "\n",
        "* t el tiempo (10 de diciembre am o pm, 11 de diciembre am o pm).\n",
        "\n",
        "Luego, creamos nuestra ultima regla para poder hacer y resolver las preguntas."
      ],
      "attachments":{
        
      },
      "metadata":{
        
      }
    },
    {
      "cell_type":"code",
      "source":[
        "for regla in formulas_lugar_anterior:\n",
        "    texto = \"Si \"\n",
        "\n",
        "    for x, i in enumerate(regla.split('>')):\n",
        "\n",
        "        texto = texto + IenCasilla.escribir(i)\n",
        "\n",
        "        if x == 0:\n",
        "            texto = texto + \" entonces \"\n",
        "\n",
        "    print(texto)"
      ],
      "execution_count":38,
      "outputs":[
        {
          "name":"stdout",
          "text":[
            "Si Juan viaja a Bogota el 10 de diciembre pm entonces Juan está en Medellin el 10 de diciembre am\n",
            "Si Juan viaja a Bogota el 11 de diciembre am entonces Juan está en Medellin el 10 de diciembre pm\n",
            "Si Juan viaja a Bogota el 11 de diciembre pm entonces Juan está en Medellin el 11 de diciembre am\n",
            "Si Juan viaja a Medellin el 10 de diciembre pm entonces Juan está en Bogota el 10 de diciembre am\n",
            "Si Juan viaja a Medellin el 11 de diciembre am entonces Juan está en Bogota el 10 de diciembre pm\n",
            "Si Juan viaja a Medellin el 11 de diciembre pm entonces Juan está en Bogota el 11 de diciembre am\n"
          ],
          "output_type":"stream"
        }
      ],
      "metadata":{
        
      }
    },
    {
      "cell_type":"markdown",
      "source":[
        "## Formalizacion logica del texto\n",
        "\n",
        "En esta seccion vamos a formalizar en logica proposicional tanto el texto como las preguntas para asi poder finalmente pasar a las pruebas.\n",
        "\n",
        "**Texto:** Juan, quien siempre lleva su laptop consigo, tomo un vuelo de Bogotá a Medellín en la mañana del 11 de diciembre.\n",
        "\n",
        "Lo primero que notamos del texto es que la primera proposicion es la regla 1 dado que, como Juan siempre lleva su laptop podemos decir en donde y cuando estan.\n",
        "\n",
        "Ahora bien, la informacion que nos da el texto es que Juan toma un vuelo a Medellin en la mañana del 11 de diciembre, entonces, esto logicamente lo podemos expresar como:"
      ],
      "attachments":{
        
      },
      "metadata":{
        
      }
    },
    {
      "cell_type":"code",
      "source":[
        "c = IenCasilla.P([0,1,2,1])   #texto\n",
        "print(IenCasilla.escribir(c))"
      ],
      "execution_count":39,
      "outputs":[
        {
          "name":"stdout",
          "text":[
            "Juan viaja a Medellin el 11 de diciembre am\n"
          ],
          "output_type":"stream"
        }
      ],
      "metadata":{
        
      }
    },
    {
      "cell_type":"markdown",
      "source":[
        "La variable c obtenida en la celda anterior nos servira como dato conocido para poder incluirlo como literal verdadero en nuestra base de conocimiento."
      ],
      "attachments":{
        
      },
      "metadata":{
        
      }
    },
    {
      "cell_type":"markdown",
      "source":[
        "## Base de conocimiento:"
      ],
      "attachments":{
        
      },
      "metadata":{
        
      }
    },
    {
      "cell_type":"code",
      "source":[
        "formulas = formulas_lugar_anterior + formulas_laptop + formulas_viaje  + [c]\n",
        "base_conocimiento = LPQuery(formulas)\n",
        "\n",
        "print(base_conocimiento)"
      ],
      "execution_count":40,
      "outputs":[
        {
          "name":"stdout",
          "text":[
            "Datos:\n",
            "Ě\n",
            "\n",
            "Reglas:\n",
            "Ĕ>Ă\n",
            "Ę>Ć\n",
            "Ĝ>Ċ\n",
            "Ė>Ā\n",
            "Ě>Ą\n",
            "Ğ>Ĉ\n",
            "Ā>ā\n",
            "Ą>ą\n",
            "Ĉ>ĉ\n",
            "Č>č\n",
            "Ă>ă\n",
            "Ć>ć\n",
            "Ċ>ċ\n",
            "Ď>ď\n",
            "ā>Ā\n",
            "ą>Ą\n",
            "ĉ>Ĉ\n",
            "č>Č\n",
            "ă>Ă\n",
            "ć>Ć\n",
            "ċ>Ċ\n",
            "ď>Ď\n",
            "Đ>Ą\n",
            "Ĕ>Ĉ\n",
            "Ę>Č\n",
            "Ē>Ć\n",
            "Ė>Ċ\n",
            "Ě>Ď\n",
            "\n"
          ],
          "output_type":"stream"
        }
      ],
      "metadata":{
        
      }
    },
    {
      "cell_type":"markdown",
      "source":[
        "Ahora, formalizaremos las preguntas las cuales son:\n",
        "\n",
        "**1:** ¿En qué ciudad está el laptop de Juan la noche del 10 de diciembre?\n",
        "\n",
        "**2:** ¿En qué ciudad está el laptop de Juan la noche del 11 de diciembre?\n",
        "\n",
        "Para esto, notamos que nos estan preguntado cual de los siguientes literales es verdadero:\n"
      ],
      "attachments":{
        
      },
      "metadata":{
        
      }
    },
    {
      "cell_type":"code",
      "source":[
        "# Para la primer pregunta\n",
        "p1 = []\n",
        "for i in range(Nlugares): \n",
        "    tmp = IenCasilla.P([1,i,1,0])\n",
        "    p1.append(tmp)\n",
        "\n",
        "    print(IenCasilla.escribir(tmp))\n"
      ],
      "execution_count":41,
      "outputs":[
        {
          "name":"stdout",
          "text":[
            "laptop está en Bogota el 10 de diciembre pm\n",
            "laptop está en Medellin el 10 de diciembre pm\n"
          ],
          "output_type":"stream"
        }
      ],
      "metadata":{
        
      }
    },
    {
      "cell_type":"code",
      "source":[
        "# Para la segunda pregunta\n",
        "\n",
        "p2 = []\n",
        "for i in range(Nlugares): \n",
        "    tmp = IenCasilla.P([1,i,3,0])\n",
        "    p2.append(tmp)\n",
        "\n",
        "    print(IenCasilla.escribir(tmp))"
      ],
      "execution_count":12,
      "outputs":[
        {
          "name":"stdout",
          "text":[
            "laptop está en Bogota el 11 de diciembre pm\n",
            "laptop está en Medellin el 11 de diciembre pm\n"
          ],
          "output_type":"stream"
        }
      ],
      "metadata":{
        
      }
    },
    {
      "cell_type":"markdown",
      "source":[
        "# Prueba"
      ],
      "attachments":{
        
      },
      "metadata":{
        
      }
    },
    {
      "cell_type":"markdown",
      "source":[
        "**Solucionando la primera pregunta:**"
      ],
      "attachments":{
        
      },
      "metadata":{
        
      }
    },
    {
      "cell_type":"code",
      "source":[
        "for i in p1:\n",
        "    respuesta = pl_fc_entails(base_conocimiento,i)\n",
        "\n",
        "    if respuesta:\n",
        "        print(IenCasilla.escribir(i))"
      ],
      "execution_count":53,
      "outputs":[
        {
          "name":"stdout",
          "text":[
            "laptop está en Bogota el 10 de diciembre pm\n"
          ],
          "output_type":"stream"
        }
      ],
      "metadata":{
        
      }
    },
    {
      "cell_type":"markdown",
      "source":[
        "**Solucionando la segunda pregunta:**"
      ],
      "attachments":{
        
      },
      "metadata":{
        
      }
    },
    {
      "cell_type":"code",
      "source":[
        "for i in p2:\n",
        "    respuesta = pl_fc_entails(base_conocimiento,i)\n",
        "\n",
        "    if respuesta:\n",
        "        print(IenCasilla.escribir(i))"
      ],
      "execution_count":52,
      "outputs":[
        {
          "name":"stdout",
          "text":[
            "laptop está en Medellin el 11 de diciembre pm\n"
          ],
          "output_type":"stream"
        }
      ],
      "metadata":{
        
      }
    }
  ],
  "metadata":{
    
  },
  "nbformat":4,
  "nbformat_minor":0
}